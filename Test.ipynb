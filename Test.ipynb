{
 "cells": [
  {
   "cell_type": "code",
   "execution_count": 1,
   "metadata": {},
   "outputs": [],
   "source": [
    "from model import *\n",
    "from DataLoader import *\n",
    "\n",
    "import logging\n",
    "import os\n",
    "\n",
    "os.environ['TF_CPP_MIN_LOG_LEVEL'] = '3'  # FATAL\n",
    "logging.getLogger('tensorflow').setLevel(logging.FATAL)"
   ]
  },
  {
   "cell_type": "code",
   "execution_count": null,
   "metadata": {},
   "outputs": [],
   "source": [
    "genres_list = [\"blues\", \"classical\", \"country\", \"disco\", \"hiphop\", \"jazz\", \"metal\", \"pop\", \"reggae\", \"rock\"]\n",
    "data = Data(genres_list)\n",
    "data.load_data(\"genres/\")"
   ]
  },
  {
   "cell_type": "code",
   "execution_count": null,
   "metadata": {},
   "outputs": [],
   "source": [
    "data.build_dataset()\n",
    "\n",
    "x_train, y_train = data.get_train_set()\n",
    "x_test, y_test = data.get_test_set()"
   ]
  },
  {
   "cell_type": "code",
   "execution_count": 2,
   "metadata": {},
   "outputs": [],
   "source": [
    "model = ModelCNN()\n",
    "# model.build()\n",
    "model.load()"
   ]
  },
  {
   "cell_type": "code",
   "execution_count": 3,
   "metadata": {},
   "outputs": [
    {
     "name": "stderr",
     "output_type": "stream",
     "text": [
      "/Users/jojo/opt/anaconda3/lib/python3.7/site-packages/librosa/core/audio.py:161: UserWarning: PySoundFile failed. Trying audioread instead.\n",
      "  warnings.warn('PySoundFile failed. Trying audioread instead.')\n"
     ]
    },
    {
     "name": "stdout",
     "output_type": "stream",
     "text": [
      "Rhapsody On A Theme Of Paganini (From _Somewhere in Time_).mp3 prediction:\n",
      "blues        1.63%\n",
      "classical   59.04%\n",
      "country      2.77%\n",
      "disco        0.15%\n",
      "hiphop       0.32%\n",
      "jazz        18.95%\n",
      "metal        5.25%\n",
      "pop          3.07%\n",
      "reggae       0.46%\n",
      "rock         8.36%\n",
      "====================================\n"
     ]
    },
    {
     "name": "stderr",
     "output_type": "stream",
     "text": [
      "/Users/jojo/opt/anaconda3/lib/python3.7/site-packages/librosa/core/audio.py:161: UserWarning: PySoundFile failed. Trying audioread instead.\n",
      "  warnings.warn('PySoundFile failed. Trying audioread instead.')\n"
     ]
    },
    {
     "name": "stdout",
     "output_type": "stream",
     "text": [
      "Scarlett Johansson;Joaquin Phoenix-The Moon Song (Film Version).mp3 prediction:\n",
      "blues       70.96%\n",
      "classical    4.45%\n",
      "country      2.66%\n",
      "disco        0.06%\n",
      "hiphop       1.91%\n",
      "jazz        15.83%\n",
      "metal        0.10%\n",
      "pop          2.52%\n",
      "reggae       1.27%\n",
      "rock         0.23%\n",
      "====================================\n"
     ]
    },
    {
     "name": "stderr",
     "output_type": "stream",
     "text": [
      "/Users/jojo/opt/anaconda3/lib/python3.7/site-packages/librosa/core/audio.py:161: UserWarning: PySoundFile failed. Trying audioread instead.\n",
      "  warnings.warn('PySoundFile failed. Trying audioread instead.')\n"
     ]
    },
    {
     "name": "stdout",
     "output_type": "stream",
     "text": [
      "Cat Power-Lived in Bars.mp3 prediction:\n",
      "blues       20.73%\n",
      "classical   10.41%\n",
      "country      5.40%\n",
      "disco        0.48%\n",
      "hiphop       0.42%\n",
      "jazz         6.89%\n",
      "metal        7.70%\n",
      "pop         10.23%\n",
      "reggae       0.15%\n",
      "rock        37.58%\n",
      "====================================\n"
     ]
    },
    {
     "name": "stderr",
     "output_type": "stream",
     "text": [
      "/Users/jojo/opt/anaconda3/lib/python3.7/site-packages/librosa/core/audio.py:161: UserWarning: PySoundFile failed. Trying audioread instead.\n",
      "  warnings.warn('PySoundFile failed. Trying audioread instead.')\n"
     ]
    },
    {
     "name": "stdout",
     "output_type": "stream",
     "text": [
      "Grandbrothers-Bloodflow.mp3 prediction:\n",
      "blues        0.20%\n",
      "classical   52.71%\n",
      "country      0.14%\n",
      "disco        0.36%\n",
      "hiphop       0.79%\n",
      "jazz         3.53%\n",
      "metal        1.07%\n",
      "pop         38.33%\n",
      "reggae       0.07%\n",
      "rock         2.81%\n",
      "====================================\n"
     ]
    },
    {
     "name": "stderr",
     "output_type": "stream",
     "text": [
      "/Users/jojo/opt/anaconda3/lib/python3.7/site-packages/librosa/core/audio.py:161: UserWarning: PySoundFile failed. Trying audioread instead.\n",
      "  warnings.warn('PySoundFile failed. Trying audioread instead.')\n"
     ]
    },
    {
     "name": "stdout",
     "output_type": "stream",
     "text": [
      "Rosie & the Originals-Angel Baby.mp3 prediction:\n",
      "blues        8.57%\n",
      "classical    0.34%\n",
      "country     13.84%\n",
      "disco        0.35%\n",
      "hiphop       0.16%\n",
      "jazz         0.40%\n",
      "metal        1.28%\n",
      "pop         12.96%\n",
      "reggae       0.42%\n",
      "rock        61.68%\n",
      "====================================\n"
     ]
    },
    {
     "name": "stderr",
     "output_type": "stream",
     "text": [
      "/Users/jojo/opt/anaconda3/lib/python3.7/site-packages/librosa/core/audio.py:161: UserWarning: PySoundFile failed. Trying audioread instead.\n",
      "  warnings.warn('PySoundFile failed. Trying audioread instead.')\n"
     ]
    },
    {
     "name": "stdout",
     "output_type": "stream",
     "text": [
      "Claude François _Alexandrie Alexandra_ (1978) HQ Audio.mp3 prediction:\n",
      "blues       10.05%\n",
      "classical    0.81%\n",
      "country      0.01%\n",
      "disco       33.24%\n",
      "hiphop      15.11%\n",
      "jazz         0.12%\n",
      "metal        2.81%\n",
      "pop         30.59%\n",
      "reggae       0.07%\n",
      "rock         7.20%\n",
      "====================================\n"
     ]
    },
    {
     "name": "stderr",
     "output_type": "stream",
     "text": [
      "/Users/jojo/opt/anaconda3/lib/python3.7/site-packages/librosa/core/audio.py:161: UserWarning: PySoundFile failed. Trying audioread instead.\n",
      "  warnings.warn('PySoundFile failed. Trying audioread instead.')\n"
     ]
    },
    {
     "name": "stdout",
     "output_type": "stream",
     "text": [
      "The Carpenters - Yesterday Once More (INCLUDES LYRICS).mp3 prediction:\n",
      "blues        0.53%\n",
      "classical   12.11%\n",
      "country     26.19%\n",
      "disco        1.40%\n",
      "hiphop       0.24%\n",
      "jazz        10.59%\n",
      "metal        7.02%\n",
      "pop          5.60%\n",
      "reggae       0.11%\n",
      "rock        36.22%\n",
      "====================================\n"
     ]
    },
    {
     "name": "stderr",
     "output_type": "stream",
     "text": [
      "/Users/jojo/opt/anaconda3/lib/python3.7/site-packages/librosa/core/audio.py:161: UserWarning: PySoundFile failed. Trying audioread instead.\n",
      "  warnings.warn('PySoundFile failed. Trying audioread instead.')\n"
     ]
    },
    {
     "name": "stdout",
     "output_type": "stream",
     "text": [
      "Etta James - I'd Rather Go Blind.mp3 prediction:\n",
      "blues        8.45%\n",
      "classical    2.30%\n",
      "country     10.22%\n",
      "disco       17.18%\n",
      "hiphop       2.00%\n",
      "jazz         1.41%\n",
      "metal        1.95%\n",
      "pop         19.02%\n",
      "reggae      12.66%\n",
      "rock        24.81%\n",
      "====================================\n"
     ]
    },
    {
     "name": "stderr",
     "output_type": "stream",
     "text": [
      "/Users/jojo/opt/anaconda3/lib/python3.7/site-packages/librosa/core/audio.py:161: UserWarning: PySoundFile failed. Trying audioread instead.\n",
      "  warnings.warn('PySoundFile failed. Trying audioread instead.')\n"
     ]
    },
    {
     "name": "stdout",
     "output_type": "stream",
     "text": [
      "Stranger Things Theme Song (C418 REMIX).mp3 prediction:\n",
      "blues        1.97%\n",
      "classical    5.23%\n",
      "country     20.76%\n",
      "disco        4.43%\n",
      "hiphop       0.32%\n",
      "jazz         1.43%\n",
      "metal       15.28%\n",
      "pop          0.62%\n",
      "reggae       1.19%\n",
      "rock        48.77%\n",
      "====================================\n"
     ]
    },
    {
     "name": "stderr",
     "output_type": "stream",
     "text": [
      "/Users/jojo/opt/anaconda3/lib/python3.7/site-packages/librosa/core/audio.py:161: UserWarning: PySoundFile failed. Trying audioread instead.\n",
      "  warnings.warn('PySoundFile failed. Trying audioread instead.')\n"
     ]
    },
    {
     "name": "stdout",
     "output_type": "stream",
     "text": [
      "C2C - Down the Road (Official).mp3 prediction:\n",
      "blues        3.92%\n",
      "classical    1.20%\n",
      "country      7.41%\n",
      "disco        0.91%\n",
      "hiphop       8.97%\n",
      "jazz         3.37%\n",
      "metal        6.39%\n",
      "pop         54.27%\n",
      "reggae       4.13%\n",
      "rock         9.41%\n",
      "====================================\n"
     ]
    },
    {
     "name": "stderr",
     "output_type": "stream",
     "text": [
      "/Users/jojo/opt/anaconda3/lib/python3.7/site-packages/librosa/core/audio.py:161: UserWarning: PySoundFile failed. Trying audioread instead.\n",
      "  warnings.warn('PySoundFile failed. Trying audioread instead.')\n"
     ]
    },
    {
     "name": "stdout",
     "output_type": "stream",
     "text": [
      "Stranger Things _ Title Sequence _HD_ _ Netflix.mp3 prediction:\n",
      "blues        1.38%\n",
      "classical    0.29%\n",
      "country      7.06%\n",
      "disco        0.05%\n",
      "hiphop       0.72%\n",
      "jazz         0.70%\n",
      "metal       45.48%\n",
      "pop          0.92%\n",
      "reggae       0.02%\n",
      "rock        43.39%\n",
      "====================================\n"
     ]
    },
    {
     "name": "stderr",
     "output_type": "stream",
     "text": [
      "/Users/jojo/opt/anaconda3/lib/python3.7/site-packages/librosa/core/audio.py:161: UserWarning: PySoundFile failed. Trying audioread instead.\n",
      "  warnings.warn('PySoundFile failed. Trying audioread instead.')\n"
     ]
    },
    {
     "name": "stdout",
     "output_type": "stream",
     "text": [
      "Cheyenne-Chicago.mp3 prediction:\n",
      "blues        7.55%\n",
      "classical    4.45%\n",
      "country      0.42%\n",
      "disco        0.02%\n",
      "hiphop      13.32%\n",
      "jazz         4.35%\n",
      "metal        0.02%\n",
      "pop         68.59%\n",
      "reggae       1.25%\n",
      "rock         0.03%\n",
      "====================================\n"
     ]
    },
    {
     "name": "stderr",
     "output_type": "stream",
     "text": [
      "/Users/jojo/opt/anaconda3/lib/python3.7/site-packages/librosa/core/audio.py:161: UserWarning: PySoundFile failed. Trying audioread instead.\n",
      "  warnings.warn('PySoundFile failed. Trying audioread instead.')\n"
     ]
    },
    {
     "name": "stdout",
     "output_type": "stream",
     "text": [
      "Stranger Things (Extended).mp3 prediction:\n",
      "blues        2.16%\n",
      "classical   15.87%\n",
      "country      1.37%\n",
      "disco       10.11%\n",
      "hiphop       5.46%\n",
      "jazz         0.19%\n",
      "metal       11.42%\n",
      "pop          5.84%\n",
      "reggae       0.52%\n",
      "rock        47.06%\n",
      "====================================\n"
     ]
    },
    {
     "name": "stderr",
     "output_type": "stream",
     "text": [
      "/Users/jojo/opt/anaconda3/lib/python3.7/site-packages/librosa/core/audio.py:161: UserWarning: PySoundFile failed. Trying audioread instead.\n",
      "  warnings.warn('PySoundFile failed. Trying audioread instead.')\n"
     ]
    },
    {
     "name": "stdout",
     "output_type": "stream",
     "text": [
      "dyson.mp4 prediction:\n",
      "blues        0.79%\n",
      "classical   30.97%\n",
      "country     12.98%\n",
      "disco        1.10%\n",
      "hiphop       5.63%\n",
      "jazz        18.55%\n",
      "metal        2.09%\n",
      "pop          0.15%\n",
      "reggae       0.34%\n",
      "rock        27.39%\n",
      "====================================\n"
     ]
    },
    {
     "name": "stderr",
     "output_type": "stream",
     "text": [
      "/Users/jojo/opt/anaconda3/lib/python3.7/site-packages/librosa/core/audio.py:161: UserWarning: PySoundFile failed. Trying audioread instead.\n",
      "  warnings.warn('PySoundFile failed. Trying audioread instead.')\n"
     ]
    },
    {
     "name": "stdout",
     "output_type": "stream",
     "text": [
      "dyson3.mp4 prediction:\n",
      "blues        0.86%\n",
      "classical    0.00%\n",
      "country     11.50%\n",
      "disco        2.11%\n",
      "hiphop       5.75%\n",
      "jazz         2.22%\n",
      "metal        1.43%\n",
      "pop         60.14%\n",
      "reggae      15.92%\n",
      "rock         0.07%\n",
      "====================================\n"
     ]
    },
    {
     "name": "stderr",
     "output_type": "stream",
     "text": [
      "/Users/jojo/opt/anaconda3/lib/python3.7/site-packages/librosa/core/audio.py:161: UserWarning: PySoundFile failed. Trying audioread instead.\n",
      "  warnings.warn('PySoundFile failed. Trying audioread instead.')\n"
     ]
    },
    {
     "name": "stdout",
     "output_type": "stream",
     "text": [
      "dyson2.mp4 prediction:\n",
      "blues        0.00%\n",
      "classical    0.00%\n",
      "country      0.00%\n",
      "disco        0.10%\n",
      "hiphop       0.83%\n",
      "jazz         0.00%\n",
      "metal        0.00%\n",
      "pop         98.46%\n",
      "reggae       0.01%\n",
      "rock         0.60%\n",
      "====================================\n"
     ]
    }
   ],
   "source": [
    "model.predict_path(\"music/\")"
   ]
  },
  {
   "cell_type": "code",
   "execution_count": null,
   "metadata": {},
   "outputs": [],
   "source": []
  },
  {
   "cell_type": "code",
   "execution_count": 4,
   "metadata": {},
   "outputs": [
    {
     "name": "stdout",
     "output_type": "stream",
     "text": [
      "blues        0.06%\n",
      "classical    0.01%\n",
      "country      0.03%\n",
      "disco        0.10%\n",
      "hiphop       1.40%\n",
      "jazz         0.07%\n",
      "metal       89.21%\n",
      "pop          0.04%\n",
      "reggae       0.00%\n",
      "rock         9.10%\n"
     ]
    }
   ],
   "source": [
    "model.predict_music(\"genres/metal/metal.00038.wav\")"
   ]
  },
  {
   "cell_type": "code",
   "execution_count": 16,
   "metadata": {},
   "outputs": [
    {
     "name": "stderr",
     "output_type": "stream",
     "text": [
      "/Users/jojo/opt/anaconda3/lib/python3.7/site-packages/librosa/core/audio.py:161: UserWarning: PySoundFile failed. Trying audioread instead.\n",
      "  warnings.warn('PySoundFile failed. Trying audioread instead.')\n"
     ]
    },
    {
     "name": "stdout",
     "output_type": "stream",
     "text": [
      "blues        8.57%\n",
      "classical    0.34%\n",
      "country     13.84%\n",
      "disco        0.35%\n",
      "hiphop       0.16%\n",
      "jazz         0.40%\n",
      "metal        1.28%\n",
      "pop         12.96%\n",
      "reggae       0.42%\n",
      "rock        61.68%\n"
     ]
    }
   ],
   "source": [
    "model.predict_music(\"Rosie & the Originals-Angel Baby.mp3\")"
   ]
  },
  {
   "cell_type": "code",
   "execution_count": 5,
   "metadata": {},
   "outputs": [
    {
     "name": "stderr",
     "output_type": "stream",
     "text": [
      "/Users/jojo/opt/anaconda3/lib/python3.7/site-packages/librosa/core/audio.py:161: UserWarning: PySoundFile failed. Trying audioread instead.\n",
      "  warnings.warn('PySoundFile failed. Trying audioread instead.')\n"
     ]
    },
    {
     "name": "stdout",
     "output_type": "stream",
     "text": [
      "blues        8.45%\n",
      "classical    2.30%\n",
      "country     10.22%\n",
      "disco       17.18%\n",
      "hiphop       2.00%\n",
      "jazz         1.41%\n",
      "metal        1.95%\n",
      "pop         19.02%\n",
      "reggae      12.66%\n",
      "rock        24.81%\n"
     ]
    }
   ],
   "source": [
    "model.predict_music(\"Etta James - I'd Rather Go Blind.mp3\")"
   ]
  },
  {
   "cell_type": "code",
   "execution_count": 7,
   "metadata": {},
   "outputs": [
    {
     "name": "stderr",
     "output_type": "stream",
     "text": [
      "/Users/jojo/opt/anaconda3/lib/python3.7/site-packages/librosa/core/audio.py:161: UserWarning: PySoundFile failed. Trying audioread instead.\n",
      "  warnings.warn('PySoundFile failed. Trying audioread instead.')\n"
     ]
    },
    {
     "name": "stdout",
     "output_type": "stream",
     "text": [
      "blues        1.38%\n",
      "classical    0.29%\n",
      "country      7.06%\n",
      "disco        0.05%\n",
      "hiphop       0.72%\n",
      "jazz         0.70%\n",
      "metal       45.48%\n",
      "pop          0.92%\n",
      "reggae       0.02%\n",
      "rock        43.39%\n"
     ]
    }
   ],
   "source": [
    "model.predict_music(\"Stranger Things _ Title Sequence _HD_ _ Netflix.mp3\")"
   ]
  },
  {
   "cell_type": "code",
   "execution_count": 8,
   "metadata": {},
   "outputs": [
    {
     "name": "stderr",
     "output_type": "stream",
     "text": [
      "/Users/jojo/opt/anaconda3/lib/python3.7/site-packages/librosa/core/audio.py:161: UserWarning: PySoundFile failed. Trying audioread instead.\n",
      "  warnings.warn('PySoundFile failed. Trying audioread instead.')\n"
     ]
    },
    {
     "name": "stdout",
     "output_type": "stream",
     "text": [
      "blues        2.16%\n",
      "classical   15.87%\n",
      "country      1.37%\n",
      "disco       10.11%\n",
      "hiphop       5.46%\n",
      "jazz         0.19%\n",
      "metal       11.42%\n",
      "pop          5.84%\n",
      "reggae       0.52%\n",
      "rock        47.06%\n"
     ]
    }
   ],
   "source": [
    "model.predict_music(\"Stranger Things (Extended).mp3\")"
   ]
  },
  {
   "cell_type": "code",
   "execution_count": 17,
   "metadata": {},
   "outputs": [
    {
     "name": "stderr",
     "output_type": "stream",
     "text": [
      "/Users/jojo/opt/anaconda3/lib/python3.7/site-packages/librosa/core/audio.py:161: UserWarning: PySoundFile failed. Trying audioread instead.\n",
      "  warnings.warn('PySoundFile failed. Trying audioread instead.')\n"
     ]
    },
    {
     "name": "stdout",
     "output_type": "stream",
     "text": [
      "blues       10.05%\n",
      "classical    0.81%\n",
      "country      0.01%\n",
      "disco       33.24%\n",
      "hiphop      15.11%\n",
      "jazz         0.12%\n",
      "metal        2.81%\n",
      "pop         30.59%\n",
      "reggae       0.07%\n",
      "rock         7.20%\n"
     ]
    }
   ],
   "source": [
    "model.predict_music(\"Claude François _Alexandrie Alexandra_ (1978) HQ Audio.mp3\")"
   ]
  },
  {
   "cell_type": "code",
   "execution_count": 13,
   "metadata": {},
   "outputs": [
    {
     "name": "stderr",
     "output_type": "stream",
     "text": [
      "/Users/jojo/opt/anaconda3/lib/python3.7/site-packages/librosa/core/audio.py:161: UserWarning: PySoundFile failed. Trying audioread instead.\n",
      "  warnings.warn('PySoundFile failed. Trying audioread instead.')\n"
     ]
    },
    {
     "name": "stdout",
     "output_type": "stream",
     "text": [
      "blues        0.86%\n",
      "classical    0.00%\n",
      "country     11.50%\n",
      "disco        2.11%\n",
      "hiphop       5.75%\n",
      "jazz         2.22%\n",
      "metal        1.43%\n",
      "pop         60.14%\n",
      "reggae      15.92%\n",
      "rock         0.07%\n"
     ]
    }
   ],
   "source": [
    "model.predict_music(\"dyson3.mp4\")"
   ]
  },
  {
   "cell_type": "code",
   "execution_count": null,
   "metadata": {},
   "outputs": [],
   "source": []
  }
 ],
 "metadata": {
  "kernelspec": {
   "display_name": "Python 3",
   "language": "python",
   "name": "python3"
  },
  "language_info": {
   "codemirror_mode": {
    "name": "ipython",
    "version": 3
   },
   "file_extension": ".py",
   "mimetype": "text/x-python",
   "name": "python",
   "nbconvert_exporter": "python",
   "pygments_lexer": "ipython3",
   "version": "3.7.6"
  }
 },
 "nbformat": 4,
 "nbformat_minor": 2
}
