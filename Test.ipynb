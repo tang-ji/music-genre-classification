{
 "cells": [
  {
   "cell_type": "code",
   "execution_count": 6,
   "metadata": {},
   "outputs": [],
   "source": [
    "from model import *\n",
    "from DataLoader import *\n",
    "\n",
    "import logging\n",
    "import os\n",
    "\n",
    "os.environ['TF_CPP_MIN_LOG_LEVEL'] = '3'  # FATAL\n",
    "logging.getLogger('tensorflow').setLevel(logging.FATAL)"
   ]
  },
  {
   "cell_type": "code",
   "execution_count": null,
   "metadata": {},
   "outputs": [],
   "source": [
    "genres_list = [\"blues\", \"classical\", \"country\", \"disco\", \"hiphop\", \"jazz\", \"metal\", \"pop\", \"reggae\", \"rock\"]\n",
    "data = Data(genres_list)\n",
    "data.load_data(\"genres/\")"
   ]
  },
  {
   "cell_type": "code",
   "execution_count": null,
   "metadata": {},
   "outputs": [],
   "source": [
    "data.build_dataset()\n",
    "\n",
    "x_train, y_train = data.get_train_set()\n",
    "x_test, y_test = data.get_test_set()"
   ]
  },
  {
   "cell_type": "code",
   "execution_count": 3,
   "metadata": {},
   "outputs": [],
   "source": [
    "model = ModelCNN()\n",
    "# model.build()\n",
    "model.load()"
   ]
  },
  {
   "cell_type": "code",
   "execution_count": 4,
   "metadata": {},
   "outputs": [
    {
     "name": "stdout",
     "output_type": "stream",
     "text": [
      "blues        0.06%\n",
      "classical    0.01%\n",
      "country      0.03%\n",
      "disco        0.10%\n",
      "hiphop       1.40%\n",
      "jazz         0.07%\n",
      "metal       89.21%\n",
      "pop          0.04%\n",
      "reggae       0.00%\n",
      "rock         9.10%\n"
     ]
    }
   ],
   "source": [
    "model.predict_music(\"genres/metal/metal.00038.wav\")"
   ]
  },
  {
   "cell_type": "code",
   "execution_count": 16,
   "metadata": {},
   "outputs": [
    {
     "name": "stderr",
     "output_type": "stream",
     "text": [
      "/Users/jojo/opt/anaconda3/lib/python3.7/site-packages/librosa/core/audio.py:161: UserWarning: PySoundFile failed. Trying audioread instead.\n",
      "  warnings.warn('PySoundFile failed. Trying audioread instead.')\n"
     ]
    },
    {
     "name": "stdout",
     "output_type": "stream",
     "text": [
      "blues        8.57%\n",
      "classical    0.34%\n",
      "country     13.84%\n",
      "disco        0.35%\n",
      "hiphop       0.16%\n",
      "jazz         0.40%\n",
      "metal        1.28%\n",
      "pop         12.96%\n",
      "reggae       0.42%\n",
      "rock        61.68%\n"
     ]
    }
   ],
   "source": [
    "model.predict_music(\"Rosie & the Originals-Angel Baby.mp3\")"
   ]
  },
  {
   "cell_type": "code",
   "execution_count": 5,
   "metadata": {},
   "outputs": [
    {
     "name": "stderr",
     "output_type": "stream",
     "text": [
      "/Users/jojo/opt/anaconda3/lib/python3.7/site-packages/librosa/core/audio.py:161: UserWarning: PySoundFile failed. Trying audioread instead.\n",
      "  warnings.warn('PySoundFile failed. Trying audioread instead.')\n"
     ]
    },
    {
     "name": "stdout",
     "output_type": "stream",
     "text": [
      "blues        8.45%\n",
      "classical    2.30%\n",
      "country     10.22%\n",
      "disco       17.18%\n",
      "hiphop       2.00%\n",
      "jazz         1.41%\n",
      "metal        1.95%\n",
      "pop         19.02%\n",
      "reggae      12.66%\n",
      "rock        24.81%\n"
     ]
    }
   ],
   "source": [
    "model.predict_music(\"Etta James - I'd Rather Go Blind.mp3\")"
   ]
  },
  {
   "cell_type": "code",
   "execution_count": 7,
   "metadata": {},
   "outputs": [
    {
     "name": "stderr",
     "output_type": "stream",
     "text": [
      "/Users/jojo/opt/anaconda3/lib/python3.7/site-packages/librosa/core/audio.py:161: UserWarning: PySoundFile failed. Trying audioread instead.\n",
      "  warnings.warn('PySoundFile failed. Trying audioread instead.')\n"
     ]
    },
    {
     "name": "stdout",
     "output_type": "stream",
     "text": [
      "blues        1.38%\n",
      "classical    0.29%\n",
      "country      7.06%\n",
      "disco        0.05%\n",
      "hiphop       0.72%\n",
      "jazz         0.70%\n",
      "metal       45.48%\n",
      "pop          0.92%\n",
      "reggae       0.02%\n",
      "rock        43.39%\n"
     ]
    }
   ],
   "source": [
    "model.predict_music(\"Stranger Things _ Title Sequence _HD_ _ Netflix.mp3\")"
   ]
  },
  {
   "cell_type": "code",
   "execution_count": 8,
   "metadata": {},
   "outputs": [
    {
     "name": "stderr",
     "output_type": "stream",
     "text": [
      "/Users/jojo/opt/anaconda3/lib/python3.7/site-packages/librosa/core/audio.py:161: UserWarning: PySoundFile failed. Trying audioread instead.\n",
      "  warnings.warn('PySoundFile failed. Trying audioread instead.')\n"
     ]
    },
    {
     "name": "stdout",
     "output_type": "stream",
     "text": [
      "blues        2.16%\n",
      "classical   15.87%\n",
      "country      1.37%\n",
      "disco       10.11%\n",
      "hiphop       5.46%\n",
      "jazz         0.19%\n",
      "metal       11.42%\n",
      "pop          5.84%\n",
      "reggae       0.52%\n",
      "rock        47.06%\n"
     ]
    }
   ],
   "source": [
    "model.predict_music(\"Stranger Things (Extended).mp3\")"
   ]
  },
  {
   "cell_type": "code",
   "execution_count": 17,
   "metadata": {},
   "outputs": [
    {
     "name": "stderr",
     "output_type": "stream",
     "text": [
      "/Users/jojo/opt/anaconda3/lib/python3.7/site-packages/librosa/core/audio.py:161: UserWarning: PySoundFile failed. Trying audioread instead.\n",
      "  warnings.warn('PySoundFile failed. Trying audioread instead.')\n"
     ]
    },
    {
     "name": "stdout",
     "output_type": "stream",
     "text": [
      "blues       10.05%\n",
      "classical    0.81%\n",
      "country      0.01%\n",
      "disco       33.24%\n",
      "hiphop      15.11%\n",
      "jazz         0.12%\n",
      "metal        2.81%\n",
      "pop         30.59%\n",
      "reggae       0.07%\n",
      "rock         7.20%\n"
     ]
    }
   ],
   "source": [
    "model.predict_music(\"Claude François _Alexandrie Alexandra_ (1978) HQ Audio.mp3\")"
   ]
  },
  {
   "cell_type": "code",
   "execution_count": 13,
   "metadata": {},
   "outputs": [
    {
     "name": "stderr",
     "output_type": "stream",
     "text": [
      "/Users/jojo/opt/anaconda3/lib/python3.7/site-packages/librosa/core/audio.py:161: UserWarning: PySoundFile failed. Trying audioread instead.\n",
      "  warnings.warn('PySoundFile failed. Trying audioread instead.')\n"
     ]
    },
    {
     "name": "stdout",
     "output_type": "stream",
     "text": [
      "blues        0.86%\n",
      "classical    0.00%\n",
      "country     11.50%\n",
      "disco        2.11%\n",
      "hiphop       5.75%\n",
      "jazz         2.22%\n",
      "metal        1.43%\n",
      "pop         60.14%\n",
      "reggae      15.92%\n",
      "rock         0.07%\n"
     ]
    }
   ],
   "source": [
    "model.predict_music(\"dyson3.mp4\")"
   ]
  },
  {
   "cell_type": "code",
   "execution_count": null,
   "metadata": {},
   "outputs": [],
   "source": []
  }
 ],
 "metadata": {
  "kernelspec": {
   "display_name": "Python 3",
   "language": "python",
   "name": "python3"
  },
  "language_info": {
   "codemirror_mode": {
    "name": "ipython",
    "version": 3
   },
   "file_extension": ".py",
   "mimetype": "text/x-python",
   "name": "python",
   "nbconvert_exporter": "python",
   "pygments_lexer": "ipython3",
   "version": "3.7.6"
  }
 },
 "nbformat": 4,
 "nbformat_minor": 2
}
